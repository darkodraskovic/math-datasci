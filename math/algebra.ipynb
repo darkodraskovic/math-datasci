{
 "cells": [
  {
   "cell_type": "markdown",
   "metadata": {},
   "source": [
    "## Standard imports"
   ]
  },
  {
   "cell_type": "code",
   "execution_count": 2,
   "metadata": {},
   "outputs": [],
   "source": [
    "import math\n",
    "\n",
    "import numpy as np\n",
    "import pandas as pd\n",
    "from numpy.random import randn\n",
    "import numpy.random as rnd\n",
    "\n",
    "import scipy as sp\n",
    "from scipy import stats\n",
    "from scipy import special\n",
    "\n",
    "import matplotlib as mpl\n",
    "import matplotlib.pyplot as plt\n",
    "\n",
    "%matplotlib inline\n",
    "\n",
    "import warnings\n",
    "warnings.filterwarnings(\"ignore\", category=DeprecationWarning)\n",
    "warnings.filterwarnings(\"ignore\", category=UserWarning)\n",
    "\n",
    "import seaborn as sns\n",
    "from bokeh.plotting import figure, show\n",
    "\n",
    "import sympy as sym\n",
    "import sympy.plotting.plot as symplot\n",
    "\n",
    "from IPython.display import display, Math\n",
    "sym.init_printing()\n",
    "\n",
    "x,y,z = sym.symbols('x,y,z')\n",
    "a,b,c,d,e,f,g,h = sym.symbols('a,b,c,d,e,f,g,h')"
   ]
  },
  {
   "cell_type": "markdown",
   "metadata": {},
   "source": [
    "## Solving for x"
   ]
  },
  {
   "cell_type": "code",
   "execution_count": 22,
   "metadata": {},
   "outputs": [
    {
     "name": "stdout",
     "output_type": "stream",
     "text": [
      "solved 2 x - 5 for x: 5/2\n",
      "Solved for x: 20/(4*y - 1)\n",
      "Solved for y: [(x + 20)/(4*x)]\n"
     ]
    },
    {
     "data": {
      "text/latex": [
       "$\\displaystyle \\left(x + 3\\right) \\left(3 x + \\frac{5}{z}\\right) \\left(y - 4 z\\right)$"
      ],
      "text/plain": [
       "<IPython.core.display.Math object>"
      ]
     },
     "metadata": {},
     "output_type": "display_data"
    },
    {
     "data": {
      "text/latex": [
       "$\\displaystyle 3 x^{2} y - 12 x^{2} z + 9 x y + \\frac{5 x y}{z} - 36 x z - 20 x + \\frac{15 y}{z} - 60$"
      ],
      "text/plain": [
       "<IPython.core.display.Math object>"
      ]
     },
     "metadata": {},
     "output_type": "display_data"
    },
    {
     "data": {
      "text/latex": [
       "$\\displaystyle \\frac{5 x y + 15 y + z \\left(3 x^{2} y - 12 x^{2} z + 9 x y - 36 x z - 20 x - 60\\right)}{z}$"
      ],
      "text/plain": [
       "<IPython.core.display.Math object>"
      ]
     },
     "metadata": {},
     "output_type": "display_data"
    }
   ],
   "source": [
    "x = sym.symbols('x')\n",
    "\n",
    "# solve 2x+4=9\n",
    "expr = 2*x + 4 - 9\n",
    "sol = sym.solve(expr,x)\n",
    "print(f\"solved {sym.latex(expr)} for x: {sol[0]}\")\n",
    "\n",
    "# input the equation directly into the solve function\n",
    "sym.solve(x**2 - 4,x)\n",
    "\n",
    "# equations with two unknowns\n",
    "y = sym.symbols('y')\n",
    "expr = x/4 - x*y + 5\n",
    "print( \"Solved for x: \" + str(sym.solve(expr,x)[0]) )\n",
    "print( \"Solved for y: \" + str(sym.solve(expr,y)) )\n",
    "\n",
    "z = sym.symbols('z')\n",
    "\n",
    "term1 = (3 + x)\n",
    "term2 = (y - 4*z)\n",
    "term3 = (5/z + 3*x)\n",
    "\n",
    "display(Math(sym.latex(term1*term2*term3)))\n",
    "display(Math(sym.latex(sym.expand(term1*term2*term3))))\n",
    "display(Math(sym.latex(sym.simplify(sym.expand(term1*term2*term3)))))\n"
   ]
  },
  {
   "cell_type": "markdown",
   "metadata": {},
   "source": [
    "## Common divisor"
   ]
  },
  {
   "cell_type": "code",
   "execution_count": 43,
   "metadata": {},
   "outputs": [
    {
     "name": "stdout",
     "output_type": "stream",
     "text": [
      "greatest common divisor of 95 and 100 is 5\n"
     ]
    },
    {
     "data": {
      "text/latex": [
       "$\\displaystyle \\frac{16}{88} \\quad = \\quad \\frac{2}{11} \\times \\frac{8}{8}$"
      ],
      "text/plain": [
       "<IPython.core.display.Math object>"
      ]
     },
     "metadata": {},
     "output_type": "display_data"
    }
   ],
   "source": [
    "# greatest common divisor\n",
    "a = 95\n",
    "b = 100\n",
    "print(f\"greatest common divisor of {a} and {b} is {math.gcd(a,b)}\")\n",
    "\n",
    "# application: reduce fraction to lowest terms\n",
    "a = 16\n",
    "b = 88\n",
    "fact = math.gcd(a,b)\n",
    "display(Math('\\\\frac{%g}{%g} \\\\quad = \\\\quad \\\\frac{%g}{%g} \\\\times \\\\frac{%g}{%g}' %(a,b,a/fact,b/fact,fact,fact)))"
   ]
  },
  {
   "cell_type": "markdown",
   "metadata": {},
   "source": [
    "## Prime factorization"
   ]
  },
  {
   "cell_type": "code",
   "execution_count": 47,
   "metadata": {},
   "outputs": [
    {
     "name": "stdout",
     "output_type": "stream",
     "text": [
      "factor dict: {2: 4, 3: 1}\n",
      "The prime factors of 48 are [2, 3]\n"
     ]
    }
   ],
   "source": [
    "number = 48\n",
    "\n",
    "# sympy function factorint; the output is a dictionary!\n",
    "fact_dict = sym.factorint(number)\n",
    "print(f\"factor dict: {fact_dict}\")\n",
    "\n",
    "# just print the prime numbers\n",
    "prime_numbers = list( fact_dict.keys() )\n",
    "print('The prime factors of ' + str(number) + ' are ' + str(prime_numbers))\n"
   ]
  },
  {
   "cell_type": "markdown",
   "metadata": {},
   "source": [
    "## Solving inequalities"
   ]
  },
  {
   "cell_type": "code",
   "execution_count": 58,
   "metadata": {},
   "outputs": [
    {
     "data": {
      "text/latex": [
       "$\\displaystyle 2 < x \\wedge x < \\infty$"
      ],
      "text/plain": [
       "<IPython.core.display.Math object>"
      ]
     },
     "metadata": {},
     "output_type": "display_data"
    },
    {
     "name": "stdout",
     "output_type": "stream",
     "text": [
      "True\n"
     ]
    },
    {
     "data": {
      "text/latex": [
       "$\\displaystyle \\left(-\\infty < x \\wedge x < -3\\right) \\vee \\left(1 < x \\wedge x < \\infty\\right)$"
      ],
      "text/plain": [
       "<IPython.core.display.Math object>"
      ]
     },
     "metadata": {},
     "output_type": "display_data"
    },
    {
     "data": {
      "text/latex": [
       "$\\displaystyle a x > \\frac{b^{2}}{c}$"
      ],
      "text/plain": [
       "<IPython.core.display.Math object>"
      ]
     },
     "metadata": {},
     "output_type": "display_data"
    }
   ],
   "source": [
    "x = sym.symbols('x')\n",
    "\n",
    "expr = 4*x > 8\n",
    "res = sym.solve(expr)\n",
    "display(Math(sym.latex( res )))\n",
    "\n",
    "print(sym.oo > 10000093847529345) # => always true\n",
    "\n",
    "expr = (x-1)*(x+3) > 0\n",
    "res = sym.solve(expr)\n",
    "display(Math(sym.latex(res)))\n",
    "\n",
    "# sym.solve will return the expression if not enough information\n",
    "a,b,c = sym.symbols('a,b,c')\n",
    "expr = a*x > b**2/c\n",
    "display(Math(sym.latex(expr)))\n",
    "res = sym.solve(expr, x)"
   ]
  },
  {
   "cell_type": "markdown",
   "metadata": {},
   "source": [
    "## Polynomials"
   ]
  },
  {
   "cell_type": "code",
   "execution_count": 61,
   "metadata": {},
   "outputs": [
    {
     "data": {
      "image/png": "[encoded data removed]",
      "text/latex": [
       "$\\displaystyle 2 x^{3} + x^{2} - x$"
      ],
      "text/plain": [
       "   3    2    \n",
       "2⋅x  + x  - x"
      ]
     },
     "metadata": {},
     "output_type": "display_data"
    },
    {
     "data": {
      "image/png": "[encoded data removed]",
      "text/latex": [
       "$\\displaystyle - x^{4} + x^{3} - 4 x^{2}$"
      ],
      "text/plain": [
       "   4    3      2\n",
       "- x  + x  - 4⋅x "
      ]
     },
     "metadata": {},
     "output_type": "display_data"
    },
    {
     "data": {
      "image/png": "[encoded data removed]",
      "text/latex": [
       "$\\displaystyle - x^{4} + 3 x^{3} - 3 x^{2} - x$"
      ],
      "text/plain": [
       "   4      3      2    \n",
       "- x  + 3⋅x  - 3⋅x  - x"
      ]
     },
     "metadata": {},
     "output_type": "display_data"
    },
    {
     "data": {
      "image/png": "[encoded data removed]",
      "text/latex": [
       "$\\displaystyle x^{4} + x^{3} + 5 x^{2} - x$"
      ],
      "text/plain": [
       " 4    3      2    \n",
       "x  + x  + 5⋅x  - x"
      ]
     },
     "metadata": {},
     "output_type": "display_data"
    },
    {
     "data": {
      "image/png": "[encoded data removed]",
      "text/latex": [
       "$\\displaystyle \\left(2 x^{3} + x^{2} - x\\right) \\left(- x^{4} + x^{3} - 4 x^{2}\\right)$"
      ],
      "text/plain": [
       "⎛   3    2    ⎞ ⎛   4    3      2⎞\n",
       "⎝2⋅x  + x  - x⎠⋅⎝- x  + x  - 4⋅x ⎠"
      ]
     },
     "metadata": {},
     "output_type": "display_data"
    },
    {
     "data": {
      "image/png": "[encoded data removed]",
      "text/latex": [
       "$\\displaystyle \\frac{2 x^{3} + x^{2} - x}{- x^{4} + x^{3} - 4 x^{2}}$"
      ],
      "text/plain": [
       "    3    2      \n",
       " 2⋅x  + x  - x  \n",
       "────────────────\n",
       "   4    3      2\n",
       "- x  + x  - 4⋅x "
      ]
     },
     "metadata": {},
     "output_type": "display_data"
    }
   ],
   "source": [
    "p1_expr = 2*x**3 + x**2 - x\n",
    "p2_expr = x**3 - x**4 - 4*x**2\n",
    "\n",
    "display( p1_expr )\n",
    "display( p2_expr )\n",
    "display( p1_expr+p2_expr )\n",
    "display( p1_expr-p2_expr )\n",
    "display( p1_expr*p2_expr )\n",
    "display( p1_expr/p2_expr )"
   ]
  },
  {
   "cell_type": "code",
   "execution_count": 71,
   "metadata": {},
   "outputs": [
    {
     "data": {
      "text/plain": [
       "'degrees: 6'"
      ]
     },
     "metadata": {},
     "output_type": "display_data"
    },
    {
     "data": {
      "text/plain": [
       "'coefficients: [2, 1, -1]'"
      ]
     },
     "metadata": {},
     "output_type": "display_data"
    },
    {
     "data": {
      "text/plain": [
       "'value at 10: 2000090'"
      ]
     },
     "metadata": {},
     "output_type": "display_data"
    },
    {
     "data": {
      "text/plain": [
       "\"factors: Poly(2*x**6 + x**2 - x, x, domain='ZZ')\""
      ]
     },
     "metadata": {},
     "output_type": "display_data"
    },
    {
     "data": {
      "image/png": "[encoded data removed]",
      "text/latex": [
       "$\\displaystyle \\operatorname{Poly}{\\left( 2.0 x^{6} - 1.0 x^{4} + 1.0 x^{3} + 0.6 x^{2} - 1.0 x, x, domain=\\mathbb{R} \\right)}$"
      ],
      "text/plain": [
       "Poly(2.0*x**6 - 1.0*x**4 + 1.0*x**3 + 0.6*x**2 - 1.0*x, x, domain='RR')"
      ]
     },
     "metadata": {},
     "output_type": "display_data"
    },
    {
     "data": {
      "image/png": "[encoded data removed]",
      "text/latex": [
       "$\\displaystyle \\operatorname{Poly}{\\left( 2.0 x^{6} + 1.0 x^{4} - 1.0 x^{3} + 1.4 x^{2} - 1.0 x, x, domain=\\mathbb{R} \\right)}$"
      ],
      "text/plain": [
       "Poly(2.0*x**6 + 1.0*x**4 - 1.0*x**3 + 1.4*x**2 - 1.0*x, x, domain='RR')"
      ]
     },
     "metadata": {},
     "output_type": "display_data"
    },
    {
     "data": {
      "image/png": "[encoded data removed]",
      "text/latex": [
       "$\\displaystyle \\operatorname{Poly}{\\left( -2.0 x^{10} + 2.0 x^{9} - 0.8 x^{8} - 1.0 x^{6} + 2.0 x^{5} - 1.4 x^{4} + 0.4 x^{3}, x, domain=\\mathbb{R} \\right)}$"
      ],
      "text/plain": [
       "Poly(-2.0*x**10 + 2.0*x**9 - 0.8*x**8 - 1.0*x**6 + 2.0*x**5 - 1.4*x**4 + 0.4*x\n",
       "**3, x, domain='RR')"
      ]
     },
     "metadata": {},
     "output_type": "display_data"
    },
    {
     "data": {
      "image/png": "[encoded data removed]",
      "text/latex": [
       "$\\displaystyle \\frac{2 x^{6} + x^{2} - x}{- 1.0 x^{4} + 1.0 x^{3} - 0.4 x^{2}}$"
      ],
      "text/plain": [
       "       6    2         \n",
       "    2⋅x  + x  - x     \n",
       "──────────────────────\n",
       "   4        3        2\n",
       "- x  + 1.0⋅x  - 0.4⋅x "
      ]
     },
     "metadata": {},
     "output_type": "display_data"
    },
    {
     "data": {
      "image/png": "[encoded data removed]",
      "text/latex": [
       "$\\displaystyle \\operatorname{Poly}{\\left( 2.0 x^{6} - 1.0 x^{4} + 1.0 x^{3} + 0.6 x^{2} - 1.0 x, x, domain=\\mathbb{R} \\right)}$"
      ],
      "text/plain": [
       "Poly(2.0*x**6 - 1.0*x**4 + 1.0*x**3 + 0.6*x**2 - 1.0*x, x, domain='RR')"
      ]
     },
     "metadata": {},
     "output_type": "display_data"
    },
    {
     "data": {
      "image/png": "[encoded data removed]",
      "text/latex": [
       "$\\displaystyle \\operatorname{Poly}{\\left( 2.0 x^{6} + 1.0 x^{4} - 1.0 x^{3} + 1.4 x^{2} - 1.0 x, x, domain=\\mathbb{R} \\right)}$"
      ],
      "text/plain": [
       "Poly(2.0*x**6 + 1.0*x**4 - 1.0*x**3 + 1.4*x**2 - 1.0*x, x, domain='RR')"
      ]
     },
     "metadata": {},
     "output_type": "display_data"
    },
    {
     "data": {
      "image/png": "[encoded data removed]",
      "text/latex": [
       "$\\displaystyle \\operatorname{Poly}{\\left( -2.0 x^{10} + 2.0 x^{9} - 0.8 x^{8} - 1.0 x^{6} + 2.0 x^{5} - 1.4 x^{4} + 0.4 x^{3}, x, domain=\\mathbb{R} \\right)}$"
      ],
      "text/plain": [
       "Poly(-2.0*x**10 + 2.0*x**9 - 0.8*x**8 - 1.0*x**6 + 2.0*x**5 - 1.4*x**4 + 0.4*x\n",
       "**3, x, domain='RR')"
      ]
     },
     "metadata": {},
     "output_type": "display_data"
    },
    {
     "data": {
      "image/png": "[encoded data removed]",
      "text/latex": [
       "$\\displaystyle \\left( \\operatorname{Poly}{\\left( -2.0 x^{2} - 2.0 x - 1.2, x, domain=\\mathbb{R} \\right)}, \\  \\operatorname{Poly}{\\left( 0.4 x^{3} + 0.52 x^{2} - 1.0 x, x, domain=\\mathbb{R} \\right)}\\right)$"
      ],
      "text/plain": [
       "(Poly(-2.0*x**2 - 2.0*x - 1.2, x, domain='RR'), Poly(0.4*x**3 + 0.52*x**2 - 1.\n",
       "0*x, x, domain='RR'))"
      ]
     },
     "metadata": {},
     "output_type": "display_data"
    }
   ],
   "source": [
    "# Using the Poly class\n",
    "p1 = sym.Poly(2*x**6 + x**2 - x)\n",
    "# can use several methods on the polynomial object\n",
    "display( f\"degrees: {p1.degree()}\" )\n",
    "display( f\"coefficients: {p1.coeffs()}\" )\n",
    "\n",
    "n = 10\n",
    "display( f\"value at {n}: {p1.eval(10)}\" )\n",
    "display( f\"factors: {sym.factor(p1)}\" )\n",
    "\n",
    "# create a second polynomial\n",
    "p2 = sym.Poly(x**3 - x**4 - .4*x**2)\n",
    "display( p1+p2 ) # eq to p1_expr+p2_expr\n",
    "display( p1-p2 ) # eq to p1_expr-p2_expr\n",
    "display( p1*p2 ) # eq to p1_expr*p2_expr\n",
    "display( p1/p2 ) # eq to p1_expr/p2_expr\n",
    "\n",
    "# can also call the add,sub,mul,div method on the polynomial objects\n",
    "display( p1.add(p2) )\n",
    "display( p1.sub(p2) )\n",
    "display( p1.mul(p2) )\n",
    "display( p1.div(p2) )"
   ]
  },
  {
   "cell_type": "markdown",
   "metadata": {},
   "source": [
    "### Roots of polynomials"
   ]
  },
  {
   "cell_type": "code",
   "execution_count": 73,
   "metadata": {},
   "outputs": [
    {
     "name": "stdout",
     "output_type": "stream",
     "text": [
      "[-1.          0.33333333]\n"
     ]
    },
    {
     "data": {
      "text/latex": [
       "$\\displaystyle \\text{At }x=-1, \\quad 3 x^{2} + 2 x - 1 = 0$"
      ],
      "text/plain": [
       "<IPython.core.display.Math object>"
      ]
     },
     "metadata": {},
     "output_type": "display_data"
    },
    {
     "data": {
      "text/latex": [
       "$\\displaystyle \\text{At }x=0.333333, \\quad 3 x^{2} + 2 x - 1 = -5.55112e-17$"
      ],
      "text/plain": [
       "<IPython.core.display.Math object>"
      ]
     },
     "metadata": {},
     "output_type": "display_data"
    }
   ],
   "source": [
    "coefs = [3, 2, -1]\n",
    "roots = np.roots(coefs)\n",
    "print(roots)\n",
    "\n",
    "pn = 3*x**2 + 2*x -1\n",
    "for i in roots:\n",
    "    display(Math('\\\\text{At }x=%g, \\\\quad %s = %g' % (i, sym.latex(pn), pn.subs(x,i))))"
   ]
  },
  {
   "cell_type": "markdown",
   "metadata": {},
   "source": [
    "## The quadratic equation"
   ]
  },
  {
   "cell_type": "code",
   "execution_count": 75,
   "metadata": {},
   "outputs": [
    {
     "name": "stderr",
     "output_type": "stream",
     "text": [
      "<ipython-input-75-38a463db3339>:10: ComplexWarning: Casting complex values to real discards the imaginary part\n",
      "  M[i,j] = quadeq(a, b[i], c[j])\n"
     ]
    },
    {
     "data": {
      "image/png": "[encoded data removed]",
      "text/plain": [
       "<Figure size 432x288 with 2 Axes>"
      ]
     },
     "metadata": {
      "needs_background": "light"
     },
     "output_type": "display_data"
    }
   ],
   "source": [
    "def quadeq(a, b, c):\n",
    "    return (-b + np.lib.scimath.sqrt(b**2 - 4*a*c)) / (2*a)\n",
    "\n",
    "a = 1\n",
    "b = list(range(-5, 6))\n",
    "c = list(range(-2, 11))\n",
    "M = np.zeros((len(b), len(c)))\n",
    "for i in range(M.shape[0]):\n",
    "    for j in range(M.shape[1]):\n",
    "        M[i,j] = quadeq(a, b[i], c[j])\n",
    "\n",
    "plt.imshow(M, extent=[c[0],c[-1], b[0],b[-1]])\n",
    "plt.title('a=%s'%a)\n",
    "plt.xlabel('c')\n",
    "plt.ylabel('b')\n",
    "plt.colorbar()\n",
    "plt.show()"
   ]
  },
  {
   "cell_type": "markdown",
   "metadata": {},
   "source": [
    "# Lore ipsum"
   ]
  },
  {
   "cell_type": "markdown",
   "metadata": {},
   "source": [
    "Lorem ipsum dolor sit amet, consectetur adipiscing elit. Sed ut consectetur massa. Etiam malesuada ac libero et rhoncus. Pellentesque vel nulla sit amet turpis vehicula efficitur. Vivamus cursus elit quam, sollicitudin venenatis lectus porta in. Praesent tempus nunc in mi sollicitudin volutpat. Pellentesque habitant morbi tristique senectus et netus et malesuada fames ac turpis egestas. Maecenas lacus diam, ultrices at mauris eu, blandit maximus mauris. Quisque sagittis, lorem quis ornare scelerisque, turpis sem gravida purus, ut aliquet sapien mi eget felis. Ut tristique tempor bibendum. In nec arcu sed leo commodo imperdiet. Nam ac lacus elit. Vivamus efficitur urna nec dolor aliquet bibendum. Nunc scelerisque, justo ac suscipit vestibulum, lacus urna pharetra elit, vitae semper ipsum lacus quis neque. Nulla nec sem dapibus, egestas lorem eget, ultrices augue. Proin ullamcorper velit enim, vitae laoreet orci tristique sit amet. Donec sit amet odio orci.\n",
    "\n",
    "Lorem ipsum dolor sit amet, consectetur adipiscing elit. Sed ut consectetur massa. Etiam malesuada ac libero et rhoncus. Pellentesque vel nulla sit amet turpis vehicula efficitur. Vivamus cursus elit quam, sollicitudin venenatis lectus porta in. Praesent tempus nunc in mi sollicitudin volutpat. Pellentesque habitant morbi tristique senectus et netus et malesuada fames ac turpis egestas. Maecenas lacus diam, ultrices at mauris eu, blandit maximus mauris. Quisque sagittis, lorem quis ornare scelerisque, turpis sem gravida purus, ut aliquet sapien mi eget felis. Ut tristique tempor bibendum. In nec arcu sed leo commodo imperdiet. Nam ac lacus elit. Vivamus efficitur urna nec dolor aliquet bibendum. Nunc scelerisque, justo ac suscipit vestibulum, lacus urna pharetra elit, vitae semper ipsum lacus quis neque. Nulla nec sem dapibus, egestas lorem eget, ultrices augue. Proin ullamcorper velit enim, vitae laoreet orci tristique sit amet. Donec sit amet odio orci."
   ]
  }
 ],
 "metadata": {
  "kernelspec": {
   "display_name": "Python 3",
   "language": "python",
   "name": "python3"
  },
  "language_info": {
   "codemirror_mode": {
    "name": "ipython",
    "version": 3
   },
   "file_extension": ".py",
   "mimetype": "text/x-python",
   "name": "python",
   "nbconvert_exporter": "python",
   "pygments_lexer": "ipython3",
   "version": "3.8.8"
  }
 },
 "nbformat": 4,
 "nbformat_minor": 4
}
