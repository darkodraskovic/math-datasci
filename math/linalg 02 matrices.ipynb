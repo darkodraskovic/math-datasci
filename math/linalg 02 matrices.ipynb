{
 "cells": [
  {
   "cell_type": "markdown",
   "metadata": {},
   "source": [
    "## Standard imports"
   ]
  },
  {
   "cell_type": "code",
   "execution_count": 3,
   "metadata": {},
   "outputs": [],
   "source": [
    "import math\n",
    "\n",
    "import numpy as np\n",
    "import pandas as pd\n",
    "from numpy.random import randn\n",
    "import numpy.random as rnd\n",
    "\n",
    "import scipy as sp\n",
    "from scipy import stats\n",
    "from scipy import special\n",
    "\n",
    "import matplotlib as mpl\n",
    "import matplotlib.pyplot as plt\n",
    "\n",
    "%matplotlib inline\n",
    "\n",
    "import warnings\n",
    "warnings.filterwarnings(\"ignore\", category=DeprecationWarning)\n",
    "warnings.filterwarnings(\"ignore\", category=UserWarning)\n",
    "\n",
    "import seaborn as sns\n",
    "from bokeh.plotting import figure, show\n",
    "\n",
    "import sympy as sym\n",
    "import sympy.plotting.plot as symplot\n",
    "\n",
    "from IPython.display import display, Math\n",
    "sym.init_printing()\n",
    "\n",
    "x,y,z = sym.symbols('x,y,z')\n",
    "a,b,c,d,e,f,g,h = sym.symbols('a,b,c,d,e,f,g,h')"
   ]
  },
  {
   "cell_type": "markdown",
   "metadata": {},
   "source": [
    "## Title_00"
   ]
  },
  {
   "cell_type": "code",
   "execution_count": 6,
   "metadata": {},
   "outputs": [],
   "source": [
    "def print_shape(A, B):\n",
    "    print(f\"{A.shape} @ {B.shape}\")"
   ]
  },
  {
   "cell_type": "code",
   "execution_count": 7,
   "metadata": {},
   "outputs": [
    {
     "name": "stdout",
     "output_type": "stream",
     "text": [
      "(3, 4) @ (4, 6)\n"
     ]
    },
    {
     "data": {
      "text/plain": [
       "array([[  69,   67,  178,  -58,   72,   25],\n",
       "       [-155, -138,  -25,  191,  -19,  -74],\n",
       "       [-134,  -99,  -24,  162,   -6,  -51]])"
      ]
     },
     "metadata": {},
     "output_type": "display_data"
    },
    {
     "name": "stdout",
     "output_type": "stream",
     "text": [
      "(6, 4) @ (4, 3)\n"
     ]
    },
    {
     "data": {
      "text/plain": [
       "array([[  69, -155, -134],\n",
       "       [  67, -138,  -99],\n",
       "       [ 178,  -25,  -24],\n",
       "       [ -58,  191,  162],\n",
       "       [  72,  -19,   -6],\n",
       "       [  25,  -74,  -51]])"
      ]
     },
     "metadata": {},
     "output_type": "display_data"
    }
   ],
   "source": [
    "M = 3\n",
    "N = 4\n",
    "K = 6\n",
    "\n",
    "A = np.random.randint(-10, 10, (M,N))\n",
    "B = np.random.randint(-10, 10, (N,K))\n",
    "\n",
    "print(f\"{A.shape} @ {B.shape}\")\n",
    "display(A@B)\n",
    "\n",
    "print(f\"{B.T.shape} @ {A.T.shape}\")\n",
    "display(B.T@A.T)"
   ]
  },
  {
   "cell_type": "code",
   "execution_count": 8,
   "metadata": {},
   "outputs": [
    {
     "data": {
      "text/plain": [
       "array([[ 6],\n",
       "       [-1],\n",
       "       [-6],\n",
       "       [ 7],\n",
       "       [-7]])"
      ]
     },
     "metadata": {},
     "output_type": "display_data"
    },
    {
     "data": {
      "text/plain": [
       "array([[ 2],\n",
       "       [ 7],\n",
       "       [-1],\n",
       "       [-3],\n",
       "       [ 4]])"
      ]
     },
     "metadata": {},
     "output_type": "display_data"
    },
    {
     "name": "stdout",
     "output_type": "stream",
     "text": [
      "(5, 1) @ (1, 5)\n",
      "(1, 5) @ (5, 1)\n"
     ]
    },
    {
     "data": {
      "text/plain": [
       "array([[-38]])"
      ]
     },
     "execution_count": 8,
     "metadata": {},
     "output_type": "execute_result"
    }
   ],
   "source": [
    "v = np.random.randint(-10, 10, (5,1))\n",
    "w = np.random.randint(-10, 10, (5,1))\n",
    "display(v)\n",
    "display(w)\n",
    "\n",
    "print_shape(v, w.T)\n",
    "v @ w.T\n",
    "\n",
    "print_shape(v.T, w)\n",
    "v.T @ w"
   ]
  },
  {
   "cell_type": "markdown",
   "metadata": {},
   "source": [
    "# Lore ipsum"
   ]
  },
  {
   "cell_type": "markdown",
   "metadata": {},
   "source": [
    "Lorem ipsum dolor sit amet, consectetur adipiscing elit. Sed ut consectetur massa. Etiam malesuada ac libero et rhoncus. Pellentesque vel nulla sit amet turpis vehicula efficitur. Vivamus cursus elit quam, sollicitudin venenatis lectus porta in. Praesent tempus nunc in mi sollicitudin volutpat. Pellentesque habitant morbi tristique senectus et netus et malesuada fames ac turpis egestas. Maecenas lacus diam, ultrices at mauris eu, blandit maximus mauris. Quisque sagittis, lorem quis ornare scelerisque, turpis sem gravida purus, ut aliquet sapien mi eget felis. Ut tristique tempor bibendum. In nec arcu sed leo commodo imperdiet. Nam ac lacus elit. Vivamus efficitur urna nec dolor aliquet bibendum. Nunc scelerisque, justo ac suscipit vestibulum, lacus urna pharetra elit, vitae semper ipsum lacus quis neque. Nulla nec sem dapibus, egestas lorem eget, ultrices augue. Proin ullamcorper velit enim, vitae laoreet orci tristique sit amet. Donec sit amet odio orci.\n",
    "\n",
    "Lorem ipsum dolor sit amet, consectetur adipiscing elit. Sed ut consectetur massa. Etiam malesuada ac libero et rhoncus. Pellentesque vel nulla sit amet turpis vehicula efficitur. Vivamus cursus elit quam, sollicitudin venenatis lectus porta in. Praesent tempus nunc in mi sollicitudin volutpat. Pellentesque habitant morbi tristique senectus et netus et malesuada fames ac turpis egestas. Maecenas lacus diam, ultrices at mauris eu, blandit maximus mauris. Quisque sagittis, lorem quis ornare scelerisque, turpis sem gravida purus, ut aliquet sapien mi eget felis. Ut tristique tempor bibendum. In nec arcu sed leo commodo imperdiet. Nam ac lacus elit. Vivamus efficitur urna nec dolor aliquet bibendum. Nunc scelerisque, justo ac suscipit vestibulum, lacus urna pharetra elit, vitae semper ipsum lacus quis neque. Nulla nec sem dapibus, egestas lorem eget, ultrices augue. Proin ullamcorper velit enim, vitae laoreet orci tristique sit amet. Donec sit amet odio orci."
   ]
  }
 ],
 "metadata": {
  "kernelspec": {
   "display_name": "Python 3 (ipykernel)",
   "language": "python",
   "name": "python3"
  },
  "language_info": {
   "codemirror_mode": {
    "name": "ipython",
    "version": 3
   },
   "file_extension": ".py",
   "mimetype": "text/x-python",
   "name": "python",
   "nbconvert_exporter": "python",
   "pygments_lexer": "ipython3",
   "version": "3.9.16"
  }
 },
 "nbformat": 4,
 "nbformat_minor": 4
}
