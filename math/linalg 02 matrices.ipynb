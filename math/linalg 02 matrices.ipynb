{
 "cells": [
  {
   "cell_type": "markdown",
   "metadata": {},
   "source": [
    "## Standard imports"
   ]
  },
  {
   "cell_type": "code",
   "execution_count": 1,
   "metadata": {},
   "outputs": [],
   "source": [
    "import math\n",
    "\n",
    "import numpy as np\n",
    "\n",
    "import scipy as sp\n",
    "\n",
    "import matplotlib.pyplot as plt\n",
    "\n",
    "%matplotlib inline\n",
    "\n",
    "import warnings\n",
    "warnings.filterwarnings(\"ignore\", category=DeprecationWarning)\n",
    "warnings.filterwarnings(\"ignore\", category=UserWarning)\n",
    "\n",
    "import sympy as sym\n",
    "import sympy.plotting.plot as symplot\n",
    "\n",
    "from IPython.display import display, Math\n",
    "sym.init_printing()"
   ]
  },
  {
   "cell_type": "markdown",
   "metadata": {},
   "source": [
    "## Matrix-matrix multiplication"
   ]
  },
  {
   "cell_type": "code",
   "execution_count": 6,
   "metadata": {},
   "outputs": [],
   "source": [
    "def print_shape(A, B):\n",
    "    print(f\"{A.shape} @ {B.shape}\")"
   ]
  },
  {
   "cell_type": "code",
   "execution_count": 7,
   "metadata": {},
   "outputs": [
    {
     "name": "stdout",
     "output_type": "stream",
     "text": [
      "(3, 4) @ (4, 6)\n"
     ]
    },
    {
     "data": {
      "text/plain": [
       "array([[  69,   67,  178,  -58,   72,   25],\n",
       "       [-155, -138,  -25,  191,  -19,  -74],\n",
       "       [-134,  -99,  -24,  162,   -6,  -51]])"
      ]
     },
     "metadata": {},
     "output_type": "display_data"
    },
    {
     "name": "stdout",
     "output_type": "stream",
     "text": [
      "(6, 4) @ (4, 3)\n"
     ]
    },
    {
     "data": {
      "text/plain": [
       "array([[  69, -155, -134],\n",
       "       [  67, -138,  -99],\n",
       "       [ 178,  -25,  -24],\n",
       "       [ -58,  191,  162],\n",
       "       [  72,  -19,   -6],\n",
       "       [  25,  -74,  -51]])"
      ]
     },
     "metadata": {},
     "output_type": "display_data"
    }
   ],
   "source": [
    "M = 3\n",
    "N = 4\n",
    "K = 6\n",
    "\n",
    "A = np.random.randint(-10, 10, (M,N))\n",
    "B = np.random.randint(-10, 10, (N,K))\n",
    "\n",
    "print(f\"{A.shape} @ {B.shape}\")\n",
    "display(A@B)\n",
    "\n",
    "print(f\"{B.T.shape} @ {A.T.shape}\")\n",
    "display(B.T@A.T)"
   ]
  },
  {
   "cell_type": "code",
   "execution_count": 8,
   "metadata": {},
   "outputs": [
    {
     "data": {
      "text/plain": [
       "array([[ 6],\n",
       "       [-1],\n",
       "       [-6],\n",
       "       [ 7],\n",
       "       [-7]])"
      ]
     },
     "metadata": {},
     "output_type": "display_data"
    },
    {
     "data": {
      "text/plain": [
       "array([[ 2],\n",
       "       [ 7],\n",
       "       [-1],\n",
       "       [-3],\n",
       "       [ 4]])"
      ]
     },
     "metadata": {},
     "output_type": "display_data"
    },
    {
     "name": "stdout",
     "output_type": "stream",
     "text": [
      "(5, 1) @ (1, 5)\n",
      "(1, 5) @ (5, 1)\n"
     ]
    },
    {
     "data": {
      "text/plain": [
       "array([[-38]])"
      ]
     },
     "execution_count": 8,
     "metadata": {},
     "output_type": "execute_result"
    }
   ],
   "source": [
    "v = np.random.randint(-10, 10, (5,1))\n",
    "w = np.random.randint(-10, 10, (5,1))\n",
    "display(v)\n",
    "display(w)\n",
    "\n",
    "print_shape(v, w.T)\n",
    "v @ w.T\n",
    "\n",
    "print_shape(v.T, w)\n",
    "v.T @ w"
   ]
  },
  {
   "cell_type": "markdown",
   "metadata": {},
   "source": [
    "### Matrix-matrix multiplication and transpose - the reverse order"
   ]
  },
  {
   "cell_type": "code",
   "execution_count": 5,
   "metadata": {},
   "outputs": [
    {
     "name": "stdout",
     "output_type": "stream",
     "text": [
      "Difference matrix:\n",
      "[[ 0.00000000e+00  8.88178420e-16  8.88178420e-16]\n",
      " [ 0.00000000e+00  0.00000000e+00  0.00000000e+00]\n",
      " [-7.10542736e-15  6.66133815e-16  1.77635684e-15]]\n"
     ]
    }
   ],
   "source": [
    "# Define the shape of the arrays (3x3 matrix)\n",
    "n = (3, 3)\n",
    "\n",
    "# Generate 4 arrays (L, I, V, E) filled with random standard normal values\n",
    "L = np.random.standard_normal(n)\n",
    "I = np.random.standard_normal(n)\n",
    "V = np.random.standard_normal(n)\n",
    "E = np.random.standard_normal(n)\n",
    "\n",
    "# Calculate 'res1' by multiplying arrays L, I, V, and E, and then transpose the result\n",
    "res1 = np.matrix.transpose(L @ I @ V @ E)\n",
    "\n",
    "# Calculate 'res2' by transposing arrays E, V, I, and L separately, and then multiply them in reverse order\n",
    "res2 = np.matrix.transpose(E) @ np.matrix.transpose(V) @ np.matrix.transpose(I) @ np.matrix.transpose(L)\n",
    "\n",
    "# Calculate the difference between 'res1' and 'res2'\n",
    "difference = res1 - res2\n",
    "\n",
    "# Display the difference matrix\n",
    "print(\"Difference matrix:\")\n",
    "print(difference)\n",
    "\n",
    "# Note: The difference matrix is expected to be a zero matrix, but due to floating-point imprecisions,\n",
    "# there might be very small non-zero values. These differences are typically negligible and arise from\n",
    "# the way computers represent real numbers in binary format.\n"
   ]
  },
  {
   "cell_type": "markdown",
   "metadata": {},
   "source": [
    "## Matrix-vector multiplication"
   ]
  },
  {
   "cell_type": "code",
   "execution_count": 6,
   "metadata": {},
   "outputs": [
    {
     "name": "stdout",
     "output_type": "stream",
     "text": [
      "Original Matrix N:\n",
      "[[ -1.  -9.  -7.  12.]\n",
      " [ -5.  16.   5. -10.]\n",
      " [  4.  -8.  -2.  10.]\n",
      " [  7.  15.  -5. -18.]]\n",
      "\n",
      "Symmetric Matrix S:\n",
      "[[  6.   0.  -4.  -3.]\n",
      " [  0.  39.   5. -39.]\n",
      " [ -4.   5.   6.  -4.]\n",
      " [ -3. -39.  -4.  42.]]\n",
      "\n",
      "Vector w:\n",
      "[[-9]\n",
      " [-2]\n",
      " [-7]\n",
      " [10]]\n",
      "\n",
      "Result of Matrix-Vector Multiplication (N @ w):\n",
      "[[ 196.]\n",
      " [-122.]\n",
      " [  94.]\n",
      " [-238.]]\n",
      "\n",
      "Result of Matrix-Vector Multiplication (S @ w):\n",
      "[[ -56.]\n",
      " [-503.]\n",
      " [ -56.]\n",
      " [ 553.]]\n",
      "\n",
      "Result of Left Matrix-Vector Multiplication (w^T @ N):\n",
      "[[  61.  255.   17. -338.]]\n",
      "\n",
      "Result of Left Matrix-Vector Multiplication (w^T @ S):\n",
      "[[ -56. -503.  -56.  553.]]\n"
     ]
    }
   ],
   "source": [
    "# Define the size of the square matrix (4x4)\n",
    "m = 4\n",
    "\n",
    "# Generate a random matrix N filled with integers rounded to the nearest whole number\n",
    "N = np.round(10 * np.random.standard_normal((m, m)))\n",
    "\n",
    "# Calculate the symmetric matrix S by multiplying the transpose of N with N, then scaling by m^2\n",
    "S = np.round(np.matrix.transpose(N) @ N / m**2)\n",
    "\n",
    "# Generate a random column vector of size 4, where each element is in the range of -10 to 10 (inclusive)\n",
    "w = np.random.randint(-10, 11, size=(4, 1))\n",
    "\n",
    "# Perform matrix-vector multiplication using the generated matrix and array\n",
    "# The result 'result_Nw' will be a column vector with 4 elements\n",
    "result_Nw = N @ w\n",
    "\n",
    "# Perform matrix-vector multiplication using the symmetric matrix and transposed array (column vector)\n",
    "# The result 'result_Sw' will be a column vector with 4 elements\n",
    "result_Sw = S @ w\n",
    "\n",
    "# Perform vector-matrix multiplication using the transposed column vector and matrix\n",
    "# The result 'result_wN' will be a row vector with 4 elements\n",
    "result_wN = np.transpose(w) @ N\n",
    "\n",
    "# Perform left vector-matrix multiplication using the transposed column vector and symmetric matrix\n",
    "# The result 'result_wS' will be a row vector with 4 elements\n",
    "result_wS = np.transpose(w) @ S\n",
    "\n",
    "# Display the original matrix N, the symmetric matrix S, the vector w, and the results of the matrix-vector and left matrix-vector multiplications\n",
    "print(\"Original Matrix N:\")\n",
    "print(N)\n",
    "\n",
    "print(\"\\nSymmetric Matrix S:\")\n",
    "print(S)\n",
    "\n",
    "print(\"\\nVector w:\")\n",
    "print(w)\n",
    "\n",
    "print(\"\\nResult of Matrix-Vector Multiplication (N @ w):\")\n",
    "print(result_Nw)\n",
    "\n",
    "print(\"\\nResult of Matrix-Vector Multiplication (S @ w):\")\n",
    "print(result_Sw)\n",
    "\n",
    "print(\"\\nResult of Left Matrix-Vector Multiplication (w^T @ N):\")\n",
    "print(result_wN)\n",
    "\n",
    "print(\"\\nResult of Left Matrix-Vector Multiplication (w^T @ S):\")\n",
    "print(result_wS)\n"
   ]
  },
  {
   "cell_type": "markdown",
   "metadata": {},
   "source": [
    "# Lore ipsum"
   ]
  },
  {
   "cell_type": "markdown",
   "metadata": {},
   "source": [
    "Lorem ipsum dolor sit amet, consectetur adipiscing elit. Sed ut consectetur massa. Etiam malesuada ac libero et rhoncus. Pellentesque vel nulla sit amet turpis vehicula efficitur. Vivamus cursus elit quam, sollicitudin venenatis lectus porta in. Praesent tempus nunc in mi sollicitudin volutpat. Pellentesque habitant morbi tristique senectus et netus et malesuada fames ac turpis egestas. Maecenas lacus diam, ultrices at mauris eu, blandit maximus mauris. Quisque sagittis, lorem quis ornare scelerisque, turpis sem gravida purus, ut aliquet sapien mi eget felis. Ut tristique tempor bibendum. In nec arcu sed leo commodo imperdiet. Nam ac lacus elit. Vivamus efficitur urna nec dolor aliquet bibendum. Nunc scelerisque, justo ac suscipit vestibulum, lacus urna pharetra elit, vitae semper ipsum lacus quis neque. Nulla nec sem dapibus, egestas lorem eget, ultrices augue. Proin ullamcorper velit enim, vitae laoreet orci tristique sit amet. Donec sit amet odio orci.\n",
    "\n",
    "Lorem ipsum dolor sit amet, consectetur adipiscing elit. Sed ut consectetur massa. Etiam malesuada ac libero et rhoncus. Pellentesque vel nulla sit amet turpis vehicula efficitur. Vivamus cursus elit quam, sollicitudin venenatis lectus porta in. Praesent tempus nunc in mi sollicitudin volutpat. Pellentesque habitant morbi tristique senectus et netus et malesuada fames ac turpis egestas. Maecenas lacus diam, ultrices at mauris eu, blandit maximus mauris. Quisque sagittis, lorem quis ornare scelerisque, turpis sem gravida purus, ut aliquet sapien mi eget felis. Ut tristique tempor bibendum. In nec arcu sed leo commodo imperdiet. Nam ac lacus elit. Vivamus efficitur urna nec dolor aliquet bibendum. Nunc scelerisque, justo ac suscipit vestibulum, lacus urna pharetra elit, vitae semper ipsum lacus quis neque. Nulla nec sem dapibus, egestas lorem eget, ultrices augue. Proin ullamcorper velit enim, vitae laoreet orci tristique sit amet. Donec sit amet odio orci."
   ]
  }
 ],
 "metadata": {
  "kernelspec": {
   "display_name": "Python 3 (ipykernel)",
   "language": "python",
   "name": "python3"
  },
  "language_info": {
   "codemirror_mode": {
    "name": "ipython",
    "version": 3
   },
   "file_extension": ".py",
   "mimetype": "text/x-python",
   "name": "python",
   "nbconvert_exporter": "python",
   "pygments_lexer": "ipython3",
   "version": "3.9.17"
  }
 },
 "nbformat": 4,
 "nbformat_minor": 4
}
