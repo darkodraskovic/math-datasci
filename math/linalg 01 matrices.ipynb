{
 "cells": [
  {
   "cell_type": "markdown",
   "metadata": {},
   "source": [
    "## Standard imports"
   ]
  },
  {
   "cell_type": "code",
   "execution_count": 2,
   "metadata": {},
   "outputs": [],
   "source": [
    "import math\n",
    "\n",
    "import numpy as np\n",
    "import pandas as pd\n",
    "from numpy.random import randn\n",
    "import numpy.random as rnd\n",
    "\n",
    "import scipy as sp\n",
    "from scipy import stats\n",
    "from scipy import special\n",
    "\n",
    "import matplotlib as mpl\n",
    "import matplotlib.pyplot as plt\n",
    "\n",
    "%matplotlib inline\n",
    "\n",
    "import warnings\n",
    "warnings.filterwarnings(\"ignore\", category=DeprecationWarning)\n",
    "warnings.filterwarnings(\"ignore\", category=UserWarning)\n",
    "\n",
    "import seaborn as sns\n",
    "from bokeh.plotting import figure, show\n",
    "\n",
    "import sympy as sym\n",
    "import sympy.plotting.plot as symplot\n",
    "\n",
    "from IPython.display import display, Math\n",
    "sym.init_printing()\n",
    "\n",
    "x,y,z = sym.symbols('x,y,z')\n",
    "a,b,c,d,e,f,g,h = sym.symbols('a,b,c,d,e,f,g,h')"
   ]
  },
  {
   "cell_type": "markdown",
   "metadata": {},
   "source": [
    "## Matrix diversity"
   ]
  },
  {
   "cell_type": "code",
   "execution_count": 5,
   "metadata": {},
   "outputs": [
    {
     "name": "stdout",
     "output_type": "stream",
     "text": [
      "[[ 1.31355262 -0.54788428 -0.09767523  0.73555204 -0.51571875]\n",
      " [-0.29502533  1.13936973  0.85999915 -0.15552766  0.54876919]\n",
      " [ 0.00391652  0.01249723  1.55341126  1.13597538  0.28626526]\n",
      " [-0.59981773 -0.88327077 -1.19900967  0.39027341 -0.90348494]\n",
      " [-0.23978361  2.25909683  0.83430017  0.82299847  0.20270903]]\n",
      "[[ 1.93342091 -0.1192125 ]\n",
      " [-2.88341397 -0.30489568]\n",
      " [-0.05115854  0.11590687]\n",
      " [ 0.13728353 -0.99023239]\n",
      " [ 0.50182596 -0.60788311]]\n",
      "[[1. 0. 0.]\n",
      " [0. 1. 0.]\n",
      " [0. 0. 1.]]\n",
      "[[0. 0. 0. 0.]\n",
      " [0. 0. 0. 0.]\n",
      " [0. 0. 0. 0.]\n",
      " [0. 0. 0. 0.]]\n"
     ]
    }
   ],
   "source": [
    "# square vs. rectangular\n",
    "S = np.random.randn(5,5)\n",
    "R = np.random.randn(5,2) # 5 rows, 2 columns\n",
    "print(S)\n",
    "print(R)\n",
    "\n",
    "# identity\n",
    "I = np.eye(3)\n",
    "print(I)\n",
    "\n",
    "# zeros\n",
    "Z = np.zeros((4,4))\n",
    "print(Z)"
   ]
  },
  {
   "cell_type": "code",
   "execution_count": 13,
   "metadata": {},
   "outputs": [
    {
     "name": "stdout",
     "output_type": "stream",
     "text": [
      "[[1 0 0 0 0]\n",
      " [0 2 0 0 0]\n",
      " [0 0 3 0 0]\n",
      " [0 0 0 5 0]\n",
      " [0 0 0 0 2]]\n",
      "[[-0.38206973  0.39908626 -0.16721567  0.01423022  0.0318426 ]\n",
      " [ 0.         -0.7757176   1.1774668  -1.03271133 -0.18614417]\n",
      " [ 0.          0.          0.42043529 -1.63866457 -1.3911023 ]\n",
      " [ 0.          0.          0.          0.5254112   0.66289253]\n",
      " [ 0.          0.          0.          0.          0.12873232]]\n",
      "[[-0.38206973  0.          0.          0.          0.        ]\n",
      " [ 1.12606707 -0.7757176   0.          0.          0.        ]\n",
      " [-0.27919804 -0.82821993  0.42043529  0.          0.        ]\n",
      " [ 0.17585292  0.20059663  0.94861636  0.5254112   0.        ]\n",
      " [ 0.2507893   0.05446062  1.27126512  1.88811166  0.12873232]]\n",
      "[[ 0.56662759 -0.63600519  0.99523539 -0.46691806 -0.27632629 -0.59891067\n",
      "  -0.72504868 -0.17164295]\n",
      " [ 0.2513978  -0.83620794  0.71060146  1.34124994  1.92049823  0.73781175\n",
      "  -1.68036182 -0.82738918]\n",
      " [ 1.4597569  -0.61945464  0.29468678  0.22024953  0.27344311  0.28424556\n",
      "   0.12751512  0.0437376 ]\n",
      " [-0.15154789  0.3027929  -0.51979023  1.25210983 -0.10804447  2.1701202\n",
      "   1.39390817 -2.22454942]]\n"
     ]
    }
   ],
   "source": [
    "# diagonal\n",
    "D = np.diag([ 1, 2, 3, 5, 2 ])\n",
    "print(D)\n",
    "\n",
    "# create triangular matrix from full matrices\n",
    "S = np.random.randn(5,5)\n",
    "# upper triangular matrix\n",
    "U = np.triu(S)\n",
    "# lower triangular matrix\n",
    "L = np.tril(S)\n",
    "print(U)\n",
    "print(L)\n",
    "\n",
    "# concatenate matrices; sizes must match\n",
    "A = np.random.randn(4,3)\n",
    "B = np.random.randn(4,5)\n",
    "C = np.concatenate((A,B),axis=1)\n",
    "print(C)"
   ]
  },
  {
   "cell_type": "markdown",
   "metadata": {},
   "source": [
    "## Matrix addition and subtraction"
   ]
  },
  {
   "cell_type": "code",
   "execution_count": 27,
   "metadata": {},
   "outputs": [
    {
     "name": "stdout",
     "output_type": "stream",
     "text": [
      "operands could not be broadcast together with shapes (5,4) (5,3)  \n",
      "\n",
      "[[-1.7 -5.  -4.  -9.   3. ]\n",
      " [ 1.  -8.7  7.   9.   2. ]\n",
      " [-2.  -2.   1.3  0.   4. ]\n",
      " [ 5.   4.  -9.  -3.7  8. ]\n",
      " [ 0.   4.   3.  -1.  -4.7]]\n"
     ]
    }
   ],
   "source": [
    "# create random matrices\n",
    "A = np.random.randn(5,4)\n",
    "B = np.random.randn(5,3)\n",
    "C = np.random.randn(5,4)\n",
    "\n",
    "# try to add matrices with different sizes\n",
    "try:\n",
    "    A+B\n",
    "except Exception as e:\n",
    "    print(e, \"\\n\")\n",
    "\n",
    "# \"shifting\" a matrix\n",
    "l = .3 # lambda\n",
    "n = 5  # size of square matrix\n",
    "D = np.random.randint(-10, 10, (n, n)) # can only shift a square matrix\n",
    "Ds = D + l*np.eye(N)\n",
    "\n",
    "print(Ds)"
   ]
  },
  {
   "cell_type": "markdown",
   "metadata": {},
   "source": [
    "## Matrix-scalar multiplication"
   ]
  },
  {
   "cell_type": "code",
   "execution_count": 28,
   "metadata": {},
   "outputs": [
    {
     "name": "stdout",
     "output_type": "stream",
     "text": [
      "[[ 2  4]\n",
      " [ 4 10]]\n",
      "[[ 2  4]\n",
      " [ 4 10]]\n"
     ]
    }
   ],
   "source": [
    "# define matrix and scalar\n",
    "M = np.array([ [1, 2], [2, 5] ])\n",
    "s = 2\n",
    "\n",
    "# pre- and post-multiplication is the same:\n",
    "print( M*s )\n",
    "print( s*M )"
   ]
  },
  {
   "cell_type": "markdown",
   "metadata": {},
   "source": [
    "## Transpose"
   ]
  },
  {
   "cell_type": "code",
   "execution_count": 39,
   "metadata": {},
   "outputs": [
    {
     "name": "stdout",
     "output_type": "stream",
     "text": [
      "[[1 2 3]\n",
      " [4 5 6]] \n",
      "\n",
      "[[1 4]\n",
      " [2 5]\n",
      " [3 6]] \n",
      "\n",
      "[[1 2 3]\n",
      " [4 5 6]] \n",
      "\n",
      "[[1 4]\n",
      " [2 5]\n",
      " [3 6]] \n",
      "\n",
      "[[1 2 3]\n",
      " [4 5 6]]\n"
     ]
    }
   ],
   "source": [
    "M = np.array([ [1,2,3],\n",
    "               [4,5,6] ])\n",
    "\n",
    "print(M, '\\n')\n",
    "print(M.T, '\\n') # one transpose\n",
    "print(M.T.T, '\\n') # double-transpose returns the original matrix\n",
    "\n",
    "# can also use the function transpose\n",
    "print(np.transpose(M), '\\n')\n",
    "print(np.transpose(np.transpose(M)))"
   ]
  },
  {
   "cell_type": "markdown",
   "metadata": {},
   "source": [
    "### Hermitian transpose"
   ]
  },
  {
   "cell_type": "code",
   "execution_count": 50,
   "metadata": {},
   "outputs": [
    {
     "name": "stdout",
     "output_type": "stream",
     "text": [
      "[[1. +1.j 2. +0.j 3. -4.j]\n",
      " [4. -1.j 5.+22.j 6. +0.j]]\n",
      "\n",
      "[[1. +1.j 4. -1.j]\n",
      " [2. +0.j 5.+22.j]\n",
      " [3. -4.j 6. +0.j]]\n",
      "\n",
      "[[1. +1.j 4. -1.j]\n",
      " [2. +0.j 5.+22.j]\n",
      " [3. -4.j 6. +0.j]]\n",
      "\n",
      "note the sign flips!\n",
      "[[1. -1.j 4. +1.j]\n",
      " [2. -0.j 5.-22.j]\n",
      " [3. +4.j 6. -0.j]]\n"
     ]
    }
   ],
   "source": [
    "# warning! be careful when using complex matrices\n",
    "C = np.array([ \n",
    "    [1+1j, 2, 3-4j],\n",
    "    [4-1j, 5+22j, 6]\n",
    "             ])\n",
    "\n",
    "print(C), print('')\n",
    "print(C.T), print('')\n",
    "print(np.transpose(C)), print('')\n",
    "\n",
    "# Note: In MATLAB, the transpose is the Hermitian transpose; \n",
    "#       in Python, you need to call the Hermitian explicitly \n",
    "#       by first converting from an array into a matrix\n",
    "print(\"note the sign flips!\")\n",
    "print(np.matrix(C).H)"
   ]
  },
  {
   "cell_type": "markdown",
   "metadata": {},
   "source": [
    "# Lore ipsum"
   ]
  },
  {
   "cell_type": "markdown",
   "metadata": {},
   "source": [
    "Lorem ipsum dolor sit amet, consectetur adipiscing elit. Sed ut consectetur massa. Etiam malesuada ac libero et rhoncus. Pellentesque vel nulla sit amet turpis vehicula efficitur. Vivamus cursus elit quam, sollicitudin venenatis lectus porta in. Praesent tempus nunc in mi sollicitudin volutpat. Pellentesque habitant morbi tristique senectus et netus et malesuada fames ac turpis egestas. Maecenas lacus diam, ultrices at mauris eu, blandit maximus mauris. Quisque sagittis, lorem quis ornare scelerisque, turpis sem gravida purus, ut aliquet sapien mi eget felis. Ut tristique tempor bibendum. In nec arcu sed leo commodo imperdiet. Nam ac lacus elit. Vivamus efficitur urna nec dolor aliquet bibendum. Nunc scelerisque, justo ac suscipit vestibulum, lacus urna pharetra elit, vitae semper ipsum lacus quis neque. Nulla nec sem dapibus, egestas lorem eget, ultrices augue. Proin ullamcorper velit enim, vitae laoreet orci tristique sit amet. Donec sit amet odio orci.\n",
    "\n",
    "Lorem ipsum dolor sit amet, consectetur adipiscing elit. Sed ut consectetur massa. Etiam malesuada ac libero et rhoncus. Pellentesque vel nulla sit amet turpis vehicula efficitur. Vivamus cursus elit quam, sollicitudin venenatis lectus porta in. Praesent tempus nunc in mi sollicitudin volutpat. Pellentesque habitant morbi tristique senectus et netus et malesuada fames ac turpis egestas. Maecenas lacus diam, ultrices at mauris eu, blandit maximus mauris. Quisque sagittis, lorem quis ornare scelerisque, turpis sem gravida purus, ut aliquet sapien mi eget felis. Ut tristique tempor bibendum. In nec arcu sed leo commodo imperdiet. Nam ac lacus elit. Vivamus efficitur urna nec dolor aliquet bibendum. Nunc scelerisque, justo ac suscipit vestibulum, lacus urna pharetra elit, vitae semper ipsum lacus quis neque. Nulla nec sem dapibus, egestas lorem eget, ultrices augue. Proin ullamcorper velit enim, vitae laoreet orci tristique sit amet. Donec sit amet odio orci."
   ]
  }
 ],
 "metadata": {
  "kernelspec": {
   "display_name": "Python 3",
   "language": "python",
   "name": "python3"
  },
  "language_info": {
   "codemirror_mode": {
    "name": "ipython",
    "version": 3
   },
   "file_extension": ".py",
   "mimetype": "text/x-python",
   "name": "python",
   "nbconvert_exporter": "python",
   "pygments_lexer": "ipython3",
   "version": "3.8.8"
  }
 },
 "nbformat": 4,
 "nbformat_minor": 4
}
